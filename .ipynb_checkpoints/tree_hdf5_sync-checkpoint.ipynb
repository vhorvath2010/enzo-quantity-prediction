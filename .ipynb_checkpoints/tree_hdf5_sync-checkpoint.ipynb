{
 "cells": [
  {
   "cell_type": "markdown",
   "metadata": {},
   "source": [
    "# Preface\n",
    "The purpose of this notebook is to sync the hdf5 data with the merger trees. Currently, halos represented in the hdf5 time steps do not necessarily align with their representations in other time steps (for instance, halo 0 in time step 0 may be different from halo 0 at time step 1. Once finished, this will allow us to add a field (yt_id) to the hdf5 dataset to allow us to track halos through different time steps.\n",
    "\n",
    "# Preconditon\n",
    "You must install GraphWiz from https://bobswift.atlassian.net/wiki/spaces/GVIZ/pages/131924165/Graphviz+installation first to be able to produce plots of the trees"
   ]
  },
  {
   "cell_type": "code",
   "execution_count": 2,
   "metadata": {
    "scrolled": false
   },
   "outputs": [
    {
     "name": "stdout",
     "output_type": "stream",
     "text": [
      "['scale', 'id', 'desc_scale', 'desc_id', 'num_prog', 'pid', 'upid', 'desc_pid', 'phantom', 'sam_Mvir', 'Mvir', 'Rvir', 'rs', 'vrms', 'mmp?', 'scale_of_last_MM', 'vmax', 'x', 'y', 'z', 'vx', 'vy', 'vz', 'Jx', 'Jy', 'Jz', 'Spin', 'Breadth_first_ID', 'Depth_first_ID', 'Tree_root_ID', 'Orig_halo_ID', 'Snap_idx', 'Next_coprogenitor_depthfirst_ID', 'Last_progenitor_depthfirst_ID', 'Last_mainleaf_depthfirst_ID', 'Tidal_Force', 'Tidal_ID', 'Rs_Klypin', 'Mvir_all', 'M200b', 'M200c', 'M500c', 'M2500c', 'Xoff', 'Voff', 'Spin_Bullock', 'b_to_a', 'c_to_a', 'A[x]', 'A[y]', 'A[z]', 'b_to_a(500c)', 'c_to_a(500c)', 'A[x](500c)', 'A[y](500c)', 'A[z](500c)', 'T/|U|', 'M_pe_Behroozi', 'M_pe_Diemer', 'Type', 'SM', 'Gas', 'BH_Mass']\n"
     ]
    },
    {
     "name": "stderr",
     "output_type": "stream",
     "text": [
      "Loading tree roots: 100%|█████████████████████████████████████████████████████████████████| 7934216/7934216 [00:00<00:00, 275724047.44it/s]\n"
     ]
    },
    {
     "name": "stdout",
     "output_type": "stream",
     "text": [
      "     scale     id  desc_scale  desc_id  num_prog  pid  upid  desc_pid  \\\n",
      "0  0.08209  26720     0.00000       -1         6   -1    -1        -1   \n",
      "0  0.08197  26423     0.08209    26720         1   -1    -1        -1   \n",
      "0  0.08184  26117     0.08197    26423         2   -1    -1        -1   \n",
      "0  0.08171  25785     0.08184    26117         1   -1    -1        -1   \n",
      "0  0.08159  25451     0.08171    25785         3   -1    -1        -1   \n",
      "\n",
      "   phantom    sam_Mvir  ...  A[x](500c)  A[y](500c)  A[z](500c)   T/|U|  \\\n",
      "0      0.0  53770000.0  ...     0.29397     0.74456    -0.05922  0.8417   \n",
      "0      0.0  53266700.0  ...     0.28735     0.73221    -0.04249  0.8397   \n",
      "0      0.0  52763300.0  ...     0.30641     0.79467    -0.02777  0.8370   \n",
      "0      0.0  52286700.0  ...     0.28301     0.76646    -0.01218  0.8360   \n",
      "0      0.0  51846700.0  ...     0.26916     0.74800     0.00497  0.8351   \n",
      "\n",
      "   M_pe_Behroozi  M_pe_Diemer  Type   SM  Gas  BH_Mass  \n",
      "0     52103000.0   59338000.0   0.0  0.0  0.0      0.0  \n",
      "0     51597000.0   58634000.0   0.0  0.0  0.0      0.0  \n",
      "0     51119000.0   55455000.0   0.0  0.0  0.0      0.0  \n",
      "0     50572000.0   53684000.0   0.0  0.0  0.0      0.0  \n",
      "0     49907000.0   52376000.0   0.0  0.0  0.0      0.0  \n",
      "\n",
      "[5 rows x 63 columns]\n"
     ]
    }
   ],
   "source": [
    "import ytree\n",
    "import h5py\n",
    "import pandas as pd\n",
    "from os import walk\n",
    "\n",
    "# Convert tree data to pandas df\n",
    "tree_df = pd.DataFrame()\n",
    "\n",
    "arbor = ytree.load('./trees/tree_0_0_0.dat')\n",
    "fields = arbor.field_list\n",
    "print(fields)\n",
    "trees = list(arbor[:])\n",
    "for tree in trees:\n",
    "    for node in tree['tree']:\n",
    "        node_data = {}\n",
    "        for key in fields:\n",
    "            node_data[key] = node[key]\n",
    "        node_df = pd.DataFrame(node_data, index=[0])\n",
    "        tree_df = pd.concat([tree_df, node_df])\n",
    "\n",
    "print(tree_df.head())"
   ]
  },
  {
   "cell_type": "code",
   "execution_count": 26,
   "metadata": {},
   "outputs": [
    {
     "name": "stdout",
     "output_type": "stream",
     "text": [
      "5.983862e-20\n",
      "0.13876751\n",
      "0\n",
      "0\n",
      "[0.27843472 0.2786431  0.2519102 ]\n"
     ]
    },
    {
     "ename": "ValueError",
     "evalue": "Shape of passed values is (243, 3), indices imply (243, 1)",
     "output_type": "error",
     "traceback": [
      "\u001b[0;31m---------------------------------------------------------------------------\u001b[0m",
      "\u001b[0;31mValueError\u001b[0m                                Traceback (most recent call last)",
      "Input \u001b[0;32mIn [26]\u001b[0m, in \u001b[0;36m<cell line: 7>\u001b[0;34m()\u001b[0m\n\u001b[1;32m     12\u001b[0m \u001b[38;5;28;01mfor\u001b[39;00m key \u001b[38;5;129;01min\u001b[39;00m loaded_file:\n\u001b[1;32m     13\u001b[0m     \u001b[38;5;28mprint\u001b[39m(loaded_file[key][\u001b[38;5;241m0\u001b[39m])\n\u001b[0;32m---> 14\u001b[0m     key_df \u001b[38;5;241m=\u001b[39m \u001b[43mpd\u001b[49m\u001b[38;5;241;43m.\u001b[39;49m\u001b[43mDataFrame\u001b[49m\u001b[43m(\u001b[49m\u001b[43mloaded_file\u001b[49m\u001b[43m[\u001b[49m\u001b[43mkey\u001b[49m\u001b[43m]\u001b[49m\u001b[43m,\u001b[49m\u001b[43m \u001b[49m\u001b[43mcolumns\u001b[49m\u001b[38;5;241;43m=\u001b[39;49m\u001b[43m[\u001b[49m\u001b[43mkey\u001b[49m\u001b[43m]\u001b[49m\u001b[43m)\u001b[49m\n\u001b[1;32m     15\u001b[0m     file_df \u001b[38;5;241m=\u001b[39m pd\u001b[38;5;241m.\u001b[39mconcat([file_df, key_df], axis\u001b[38;5;241m=\u001b[39m\u001b[38;5;241m1\u001b[39m)\n\u001b[1;32m     16\u001b[0m files_df \u001b[38;5;241m=\u001b[39m pd\u001b[38;5;241m.\u001b[39mconcat([files_df, file_df])\n",
      "File \u001b[0;32m~/.conda/envs/Vincent_WiseGroup/lib/python3.10/site-packages/pandas/core/frame.py:737\u001b[0m, in \u001b[0;36mDataFrame.__init__\u001b[0;34m(self, data, index, columns, dtype, copy)\u001b[0m\n\u001b[1;32m    729\u001b[0m         mgr \u001b[38;5;241m=\u001b[39m arrays_to_mgr(\n\u001b[1;32m    730\u001b[0m             arrays,\n\u001b[1;32m    731\u001b[0m             columns,\n\u001b[0;32m   (...)\u001b[0m\n\u001b[1;32m    734\u001b[0m             typ\u001b[38;5;241m=\u001b[39mmanager,\n\u001b[1;32m    735\u001b[0m         )\n\u001b[1;32m    736\u001b[0m     \u001b[38;5;28;01melse\u001b[39;00m:\n\u001b[0;32m--> 737\u001b[0m         mgr \u001b[38;5;241m=\u001b[39m \u001b[43mndarray_to_mgr\u001b[49m\u001b[43m(\u001b[49m\n\u001b[1;32m    738\u001b[0m \u001b[43m            \u001b[49m\u001b[43mdata\u001b[49m\u001b[43m,\u001b[49m\n\u001b[1;32m    739\u001b[0m \u001b[43m            \u001b[49m\u001b[43mindex\u001b[49m\u001b[43m,\u001b[49m\n\u001b[1;32m    740\u001b[0m \u001b[43m            \u001b[49m\u001b[43mcolumns\u001b[49m\u001b[43m,\u001b[49m\n\u001b[1;32m    741\u001b[0m \u001b[43m            \u001b[49m\u001b[43mdtype\u001b[49m\u001b[38;5;241;43m=\u001b[39;49m\u001b[43mdtype\u001b[49m\u001b[43m,\u001b[49m\n\u001b[1;32m    742\u001b[0m \u001b[43m            \u001b[49m\u001b[43mcopy\u001b[49m\u001b[38;5;241;43m=\u001b[39;49m\u001b[43mcopy\u001b[49m\u001b[43m,\u001b[49m\n\u001b[1;32m    743\u001b[0m \u001b[43m            \u001b[49m\u001b[43mtyp\u001b[49m\u001b[38;5;241;43m=\u001b[39;49m\u001b[43mmanager\u001b[49m\u001b[43m,\u001b[49m\n\u001b[1;32m    744\u001b[0m \u001b[43m        \u001b[49m\u001b[43m)\u001b[49m\n\u001b[1;32m    745\u001b[0m \u001b[38;5;28;01melse\u001b[39;00m:\n\u001b[1;32m    746\u001b[0m     mgr \u001b[38;5;241m=\u001b[39m dict_to_mgr(\n\u001b[1;32m    747\u001b[0m         {},\n\u001b[1;32m    748\u001b[0m         index,\n\u001b[0;32m   (...)\u001b[0m\n\u001b[1;32m    751\u001b[0m         typ\u001b[38;5;241m=\u001b[39mmanager,\n\u001b[1;32m    752\u001b[0m     )\n",
      "File \u001b[0;32m~/.conda/envs/Vincent_WiseGroup/lib/python3.10/site-packages/pandas/core/internals/construction.py:351\u001b[0m, in \u001b[0;36mndarray_to_mgr\u001b[0;34m(values, index, columns, dtype, copy, typ)\u001b[0m\n\u001b[1;32m    346\u001b[0m \u001b[38;5;66;03m# _prep_ndarray ensures that values.ndim == 2 at this point\u001b[39;00m\n\u001b[1;32m    347\u001b[0m index, columns \u001b[38;5;241m=\u001b[39m _get_axes(\n\u001b[1;32m    348\u001b[0m     values\u001b[38;5;241m.\u001b[39mshape[\u001b[38;5;241m0\u001b[39m], values\u001b[38;5;241m.\u001b[39mshape[\u001b[38;5;241m1\u001b[39m], index\u001b[38;5;241m=\u001b[39mindex, columns\u001b[38;5;241m=\u001b[39mcolumns\n\u001b[1;32m    349\u001b[0m )\n\u001b[0;32m--> 351\u001b[0m \u001b[43m_check_values_indices_shape_match\u001b[49m\u001b[43m(\u001b[49m\u001b[43mvalues\u001b[49m\u001b[43m,\u001b[49m\u001b[43m \u001b[49m\u001b[43mindex\u001b[49m\u001b[43m,\u001b[49m\u001b[43m \u001b[49m\u001b[43mcolumns\u001b[49m\u001b[43m)\u001b[49m\n\u001b[1;32m    353\u001b[0m \u001b[38;5;28;01mif\u001b[39;00m typ \u001b[38;5;241m==\u001b[39m \u001b[38;5;124m\"\u001b[39m\u001b[38;5;124marray\u001b[39m\u001b[38;5;124m\"\u001b[39m:\n\u001b[1;32m    355\u001b[0m     \u001b[38;5;28;01mif\u001b[39;00m \u001b[38;5;28missubclass\u001b[39m(values\u001b[38;5;241m.\u001b[39mdtype\u001b[38;5;241m.\u001b[39mtype, \u001b[38;5;28mstr\u001b[39m):\n",
      "File \u001b[0;32m~/.conda/envs/Vincent_WiseGroup/lib/python3.10/site-packages/pandas/core/internals/construction.py:422\u001b[0m, in \u001b[0;36m_check_values_indices_shape_match\u001b[0;34m(values, index, columns)\u001b[0m\n\u001b[1;32m    420\u001b[0m passed \u001b[38;5;241m=\u001b[39m values\u001b[38;5;241m.\u001b[39mshape\n\u001b[1;32m    421\u001b[0m implied \u001b[38;5;241m=\u001b[39m (\u001b[38;5;28mlen\u001b[39m(index), \u001b[38;5;28mlen\u001b[39m(columns))\n\u001b[0;32m--> 422\u001b[0m \u001b[38;5;28;01mraise\u001b[39;00m \u001b[38;5;167;01mValueError\u001b[39;00m(\u001b[38;5;124mf\u001b[39m\u001b[38;5;124m\"\u001b[39m\u001b[38;5;124mShape of passed values is \u001b[39m\u001b[38;5;132;01m{\u001b[39;00mpassed\u001b[38;5;132;01m}\u001b[39;00m\u001b[38;5;124m, indices imply \u001b[39m\u001b[38;5;132;01m{\u001b[39;00mimplied\u001b[38;5;132;01m}\u001b[39;00m\u001b[38;5;124m\"\u001b[39m)\n",
      "\u001b[0;31mValueError\u001b[0m: Shape of passed values is (243, 3), indices imply (243, 1)"
     ]
    }
   ],
   "source": [
    "import numpy as np\n",
    "\n",
    "# Combine halo files into one dataframe\n",
    "files_df = pd.DataFrame()\n",
    "\n",
    "data_files = next(walk('./data'), (None, None, []))[2]\n",
    "for data_file in data_files:\n",
    "    if \"halodat_DD\" in data_file:\n",
    "        path = './data/' + data_file\n",
    "        file_df = pd.DataFrame()\n",
    "        loaded_file = h5py.File(path)\n",
    "        for key in loaded_file:\n",
    "            print(loaded_file[key][0])\n",
    "            key_df = pd.DataFrame(loaded_file[key], columns=[key])\n",
    "            file_df = pd.concat([file_df, key_df], axis=1)\n",
    "        files_df = pd.concat([files_df, file_df])\n",
    "            \n"
   ]
  }
 ],
 "metadata": {
  "kernelspec": {
   "display_name": "Python 3 (ipykernel)",
   "language": "python",
   "name": "python3"
  },
  "language_info": {
   "codemirror_mode": {
    "name": "ipython",
    "version": 3
   },
   "file_extension": ".py",
   "mimetype": "text/x-python",
   "name": "python",
   "nbconvert_exporter": "python",
   "pygments_lexer": "ipython3",
   "version": "3.10.4"
  },
  "vscode": {
   "interpreter": {
    "hash": "e59112c5a63317aa7588830dc42bb2efefad9e82efb2fe351bc21f8e94828d9f"
   }
  }
 },
 "nbformat": 4,
 "nbformat_minor": 2
}
