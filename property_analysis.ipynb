{
 "cells": [
  {
   "cell_type": "markdown",
   "metadata": {},
   "source": [
    "# Singular Example\n",
    "looking at a singular example to understand props"
   ]
  },
  {
   "cell_type": "code",
   "execution_count": 4,
   "metadata": {},
   "outputs": [
    {
     "name": "stdout",
     "output_type": "stream",
     "text": [
      "['avg_metallicity', 'gas_fraction', 'id', 'num_pop3', 'position', 'radius', 'stellar_mass', 'time', 'total_mass']\n",
      "31758.795\n"
     ]
    }
   ],
   "source": [
    "import h5py\n",
    "import yt\n",
    "\n",
    "with h5py.File('./data/halodat_DD0000.hdf5', 'r') as f:\n",
    "    print(list(f.keys()))\n",
    "    print(max(f['total_mass']))"
   ]
  }
 ],
 "metadata": {
  "kernelspec": {
   "display_name": "Python 3.10.7 64-bit (microsoft store)",
   "language": "python",
   "name": "python3"
  },
  "language_info": {
   "codemirror_mode": {
    "name": "ipython",
    "version": 3
   },
   "file_extension": ".py",
   "mimetype": "text/x-python",
   "name": "python",
   "nbconvert_exporter": "python",
   "pygments_lexer": "ipython3",
   "version": "3.10.7"
  },
  "vscode": {
   "interpreter": {
    "hash": "e59112c5a63317aa7588830dc42bb2efefad9e82efb2fe351bc21f8e94828d9f"
   }
  }
 },
 "nbformat": 4,
 "nbformat_minor": 2
}
