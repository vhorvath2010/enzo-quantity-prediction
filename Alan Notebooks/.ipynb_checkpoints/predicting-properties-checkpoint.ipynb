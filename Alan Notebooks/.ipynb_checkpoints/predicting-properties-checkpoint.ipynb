{
 "cells": [
  {
   "cell_type": "code",
   "execution_count": 106,
   "metadata": {},
   "outputs": [],
   "source": [
    "from sklearn.neural_network import MLPRegressor\n",
    "import numpy as np\n",
    "import pandas as pd\n",
    "import h5py\n",
    "from matplotlib import pyplot as plt"
   ]
  },
  {
   "cell_type": "code",
   "execution_count": 132,
   "metadata": {},
   "outputs": [],
   "source": [
    "with h5py.File('halo_properties.hdf5','r') as f:\n",
    "    total_mass = np.concatenate((f['total_mass_0'][:], f['total_mass_1'][:], f['total_mass_2'][:], f['total_mass_3'][:], f['total_mass_4'][:]))\n",
    "    avg_metallicity = np.concatenate((f['avg_metallicity_0'][:], f['avg_metallicity_1'][:], f['avg_metallicity_2'][:], f['avg_metallicity_3'][:], f['avg_metallicity_4'][:]))\n",
    "    stellar_mass = np.concatenate((f['stellar_mass_0'][:], f['stellar_mass_1'][:], f['stellar_mass_2'][:],f['stellar_mass_3'][:], f['stellar_mass_4'][:]))\n",
    "    num_pop3 = np.concatenate((f['num_pop3_0'][:], f['num_pop3_1'][:], f['num_pop3_2'][:], f['num_pop3_3'][:], f['num_pop3_4'][:]))\n",
    "    gas_fraction = np.concatenate((f['gas_fraction_0'][:], f['gas_fraction_1'][:], f['gas_fraction_2'][:], f['gas_fraction_3'][:], f['gas_fraction_4'][:]))\n",
    "    \n",
    "    total_mass_0 = f['total_mass_0'][:]\n",
    "    avg_metallicity_0 = f['avg_metallicity_0'][:]\n",
    "    stellar_mass_0 = f['stellar_mass_0'][:]\n",
    "    num_pop3_0 = f['num_pop3_0'][:]\n",
    "    gas_fraction_0 = f['gas_fraction_0'][:]"
   ]
  },
  {
   "cell_type": "code",
   "execution_count": 131,
   "metadata": {
    "scrolled": true
   },
   "outputs": [],
   "source": [
    "nulls = np.where(pd.isna(total_mass))\n",
    "\n",
    "total_mass = np.delete(total_mass, nulls)\n",
    "avg_metallicity = np.delete(avg_metallicity, nulls)\n",
    "stellar_mass = np.delete(stellar_mass, nulls)\n",
    "num_pop3 = np.delete(num_pop3, nulls)\n",
    "gas_fraction = np.delete(gas_fraction, nulls)"
   ]
  },
  {
   "cell_type": "code",
   "execution_count": 134,
   "metadata": {},
   "outputs": [
    {
     "ename": "ValueError",
     "evalue": "Input contains NaN, infinity or a value too large for dtype('<f8').",
     "output_type": "error",
     "traceback": [
      "\u001b[0;31m---------------------------------------------------------------------------\u001b[0m",
      "\u001b[0;31mValueError\u001b[0m                                Traceback (most recent call last)",
      "\u001b[0;32m<ipython-input-134-e62fc8d863f0>\u001b[0m in \u001b[0;36m<module>\u001b[0;34m\u001b[0m\n\u001b[1;32m     12\u001b[0m      [gas_fraction_0]]\n\u001b[1;32m     13\u001b[0m \u001b[0;34m\u001b[0m\u001b[0m\n\u001b[0;32m---> 14\u001b[0;31m \u001b[0mmodel\u001b[0m \u001b[0;34m=\u001b[0m \u001b[0mMLPRegressor\u001b[0m\u001b[0;34m(\u001b[0m\u001b[0;34m)\u001b[0m\u001b[0;34m.\u001b[0m\u001b[0mfit\u001b[0m\u001b[0;34m(\u001b[0m\u001b[0mX\u001b[0m\u001b[0;34m,\u001b[0m\u001b[0mY\u001b[0m\u001b[0;34m)\u001b[0m\u001b[0;34m\u001b[0m\u001b[0m\n\u001b[0m",
      "\u001b[0;32m/Library/Frameworks/Python.framework/Versions/3.7/lib/python3.7/site-packages/sklearn/neural_network/_multilayer_perceptron.py\u001b[0m in \u001b[0;36mfit\u001b[0;34m(self, X, y)\u001b[0m\n\u001b[1;32m    625\u001b[0m         \u001b[0mself\u001b[0m \u001b[0;34m:\u001b[0m \u001b[0mreturns\u001b[0m \u001b[0ma\u001b[0m \u001b[0mtrained\u001b[0m \u001b[0mMLP\u001b[0m \u001b[0mmodel\u001b[0m\u001b[0;34m.\u001b[0m\u001b[0;34m\u001b[0m\u001b[0m\n\u001b[1;32m    626\u001b[0m         \"\"\"\n\u001b[0;32m--> 627\u001b[0;31m         \u001b[0;32mreturn\u001b[0m \u001b[0mself\u001b[0m\u001b[0;34m.\u001b[0m\u001b[0m_fit\u001b[0m\u001b[0;34m(\u001b[0m\u001b[0mX\u001b[0m\u001b[0;34m,\u001b[0m \u001b[0my\u001b[0m\u001b[0;34m,\u001b[0m \u001b[0mincremental\u001b[0m\u001b[0;34m=\u001b[0m\u001b[0;32mFalse\u001b[0m\u001b[0;34m)\u001b[0m\u001b[0;34m\u001b[0m\u001b[0m\n\u001b[0m\u001b[1;32m    628\u001b[0m \u001b[0;34m\u001b[0m\u001b[0m\n\u001b[1;32m    629\u001b[0m     \u001b[0;34m@\u001b[0m\u001b[0mproperty\u001b[0m\u001b[0;34m\u001b[0m\u001b[0m\n",
      "\u001b[0;32m/Library/Frameworks/Python.framework/Versions/3.7/lib/python3.7/site-packages/sklearn/neural_network/_multilayer_perceptron.py\u001b[0m in \u001b[0;36m_fit\u001b[0;34m(self, X, y, incremental)\u001b[0m\n\u001b[1;32m    323\u001b[0m                              hidden_layer_sizes)\n\u001b[1;32m    324\u001b[0m \u001b[0;34m\u001b[0m\u001b[0m\n\u001b[0;32m--> 325\u001b[0;31m         \u001b[0mX\u001b[0m\u001b[0;34m,\u001b[0m \u001b[0my\u001b[0m \u001b[0;34m=\u001b[0m \u001b[0mself\u001b[0m\u001b[0;34m.\u001b[0m\u001b[0m_validate_input\u001b[0m\u001b[0;34m(\u001b[0m\u001b[0mX\u001b[0m\u001b[0;34m,\u001b[0m \u001b[0my\u001b[0m\u001b[0;34m,\u001b[0m \u001b[0mincremental\u001b[0m\u001b[0;34m)\u001b[0m\u001b[0;34m\u001b[0m\u001b[0m\n\u001b[0m\u001b[1;32m    326\u001b[0m         \u001b[0mn_samples\u001b[0m\u001b[0;34m,\u001b[0m \u001b[0mn_features\u001b[0m \u001b[0;34m=\u001b[0m \u001b[0mX\u001b[0m\u001b[0;34m.\u001b[0m\u001b[0mshape\u001b[0m\u001b[0;34m\u001b[0m\u001b[0m\n\u001b[1;32m    327\u001b[0m \u001b[0;34m\u001b[0m\u001b[0m\n",
      "\u001b[0;32m/Library/Frameworks/Python.framework/Versions/3.7/lib/python3.7/site-packages/sklearn/neural_network/_multilayer_perceptron.py\u001b[0m in \u001b[0;36m_validate_input\u001b[0;34m(self, X, y, incremental)\u001b[0m\n\u001b[1;32m   1338\u001b[0m     \u001b[0;32mdef\u001b[0m \u001b[0m_validate_input\u001b[0m\u001b[0;34m(\u001b[0m\u001b[0mself\u001b[0m\u001b[0;34m,\u001b[0m \u001b[0mX\u001b[0m\u001b[0;34m,\u001b[0m \u001b[0my\u001b[0m\u001b[0;34m,\u001b[0m \u001b[0mincremental\u001b[0m\u001b[0;34m)\u001b[0m\u001b[0;34m:\u001b[0m\u001b[0;34m\u001b[0m\u001b[0m\n\u001b[1;32m   1339\u001b[0m         X, y = check_X_y(X, y, accept_sparse=['csr', 'csc', 'coo'],\n\u001b[0;32m-> 1340\u001b[0;31m                          multi_output=True, y_numeric=True)\n\u001b[0m\u001b[1;32m   1341\u001b[0m         \u001b[0;32mif\u001b[0m \u001b[0my\u001b[0m\u001b[0;34m.\u001b[0m\u001b[0mndim\u001b[0m \u001b[0;34m==\u001b[0m \u001b[0;36m2\u001b[0m \u001b[0;32mand\u001b[0m \u001b[0my\u001b[0m\u001b[0;34m.\u001b[0m\u001b[0mshape\u001b[0m\u001b[0;34m[\u001b[0m\u001b[0;36m1\u001b[0m\u001b[0;34m]\u001b[0m \u001b[0;34m==\u001b[0m \u001b[0;36m1\u001b[0m\u001b[0;34m:\u001b[0m\u001b[0;34m\u001b[0m\u001b[0m\n\u001b[1;32m   1342\u001b[0m             \u001b[0my\u001b[0m \u001b[0;34m=\u001b[0m \u001b[0mcolumn_or_1d\u001b[0m\u001b[0;34m(\u001b[0m\u001b[0my\u001b[0m\u001b[0;34m,\u001b[0m \u001b[0mwarn\u001b[0m\u001b[0;34m=\u001b[0m\u001b[0;32mTrue\u001b[0m\u001b[0;34m)\u001b[0m\u001b[0;34m\u001b[0m\u001b[0m\n",
      "\u001b[0;32m/Library/Frameworks/Python.framework/Versions/3.7/lib/python3.7/site-packages/sklearn/utils/validation.py\u001b[0m in \u001b[0;36mcheck_X_y\u001b[0;34m(X, y, accept_sparse, accept_large_sparse, dtype, order, copy, force_all_finite, ensure_2d, allow_nd, multi_output, ensure_min_samples, ensure_min_features, y_numeric, warn_on_dtype, estimator)\u001b[0m\n\u001b[1;32m    753\u001b[0m                     \u001b[0mensure_min_features\u001b[0m\u001b[0;34m=\u001b[0m\u001b[0mensure_min_features\u001b[0m\u001b[0;34m,\u001b[0m\u001b[0;34m\u001b[0m\u001b[0m\n\u001b[1;32m    754\u001b[0m                     \u001b[0mwarn_on_dtype\u001b[0m\u001b[0;34m=\u001b[0m\u001b[0mwarn_on_dtype\u001b[0m\u001b[0;34m,\u001b[0m\u001b[0;34m\u001b[0m\u001b[0m\n\u001b[0;32m--> 755\u001b[0;31m                     estimator=estimator)\n\u001b[0m\u001b[1;32m    756\u001b[0m     \u001b[0;32mif\u001b[0m \u001b[0mmulti_output\u001b[0m\u001b[0;34m:\u001b[0m\u001b[0;34m\u001b[0m\u001b[0m\n\u001b[1;32m    757\u001b[0m         y = check_array(y, 'csr', force_all_finite=True, ensure_2d=False,\n",
      "\u001b[0;32m/Library/Frameworks/Python.framework/Versions/3.7/lib/python3.7/site-packages/sklearn/utils/validation.py\u001b[0m in \u001b[0;36mcheck_array\u001b[0;34m(array, accept_sparse, accept_large_sparse, dtype, order, copy, force_all_finite, ensure_2d, allow_nd, ensure_min_samples, ensure_min_features, warn_on_dtype, estimator)\u001b[0m\n\u001b[1;32m    576\u001b[0m         \u001b[0;32mif\u001b[0m \u001b[0mforce_all_finite\u001b[0m\u001b[0;34m:\u001b[0m\u001b[0;34m\u001b[0m\u001b[0m\n\u001b[1;32m    577\u001b[0m             _assert_all_finite(array,\n\u001b[0;32m--> 578\u001b[0;31m                                allow_nan=force_all_finite == 'allow-nan')\n\u001b[0m\u001b[1;32m    579\u001b[0m \u001b[0;34m\u001b[0m\u001b[0m\n\u001b[1;32m    580\u001b[0m     \u001b[0;32mif\u001b[0m \u001b[0mensure_min_samples\u001b[0m \u001b[0;34m>\u001b[0m \u001b[0;36m0\u001b[0m\u001b[0;34m:\u001b[0m\u001b[0;34m\u001b[0m\u001b[0m\n",
      "\u001b[0;32m/Library/Frameworks/Python.framework/Versions/3.7/lib/python3.7/site-packages/sklearn/utils/validation.py\u001b[0m in \u001b[0;36m_assert_all_finite\u001b[0;34m(X, allow_nan, msg_dtype)\u001b[0m\n\u001b[1;32m     58\u001b[0m                     \u001b[0mmsg_err\u001b[0m\u001b[0;34m.\u001b[0m\u001b[0mformat\u001b[0m\u001b[0;34m\u001b[0m\u001b[0m\n\u001b[1;32m     59\u001b[0m                     (type_err,\n\u001b[0;32m---> 60\u001b[0;31m                      msg_dtype if msg_dtype is not None else X.dtype)\n\u001b[0m\u001b[1;32m     61\u001b[0m             )\n\u001b[1;32m     62\u001b[0m     \u001b[0;31m# for object dtype data, we only check for NaNs (GH-13254)\u001b[0m\u001b[0;34m\u001b[0m\u001b[0;34m\u001b[0m\u001b[0m\n",
      "\u001b[0;31mValueError\u001b[0m: Input contains NaN, infinity or a value too large for dtype('<f8')."
     ]
    }
   ],
   "source": [
    "x = np.transpose([total_mass])\n",
    "# print(x)\n",
    "y = np.transpose([avg_metallicity, stellar_mass, num_pop3, gas_fraction])\n",
    "# print(y)\n",
    "\n",
    "# model = MLPRegressor(hidden_layer_sizes=(100,100)).fit(x,y)\n",
    "\n",
    "X = [total_mass_0]\n",
    "Y = [[avg_metallicity_0],\n",
    "     [stellar_mass_0],\n",
    "     [num_pop3_0],\n",
    "     [gas_fraction_0]]\n",
    "\n",
    "model = MLPRegressor().fit(X,Y)"
   ]
  },
  {
   "cell_type": "code",
   "execution_count": 122,
   "metadata": {},
   "outputs": [
    {
     "name": "stdout",
     "output_type": "stream",
     "text": [
      "[2.61258557e+04 3.06025417e+04 3.57220625e+04 4.15581997e+04\n",
      " 4.81909075e+04 5.57066030e+04 6.41984516e+04 7.37666501e+04\n",
      " 8.45187023e+04 9.65696891e+04 1.10042531e+05 1.25068243e+05\n",
      " 1.41786177e+05 1.60344258e+05 1.80899208e+05 2.03616757e+05\n",
      " 2.28671843e+05 2.56248798e+05 2.86541520e+05 3.19753636e+05\n",
      " 3.56098641e+05 3.95800033e+05 4.39091423e+05 4.86216636e+05\n",
      " 5.37429798e+05 5.92995399e+05 6.53188344e+05 7.18293998e+05\n",
      " 7.88608197e+05 8.64437257e+05 9.46097964e+05 1.03391755e+06\n",
      " 1.12823364e+06 1.22939421e+06 1.33775752e+06 1.45369200e+06\n",
      " 1.57757619e+06 1.70979859e+06 1.85075756e+06 2.00086118e+06\n",
      " 2.16052709e+06 2.33018232e+06 2.51026312e+06 2.70121481e+06\n",
      " 2.90349153e+06 3.11755606e+06 3.34387962e+06 3.58294163e+06\n",
      " 3.83522946e+06 4.10123825e+06 4.38147060e+06 4.67643634e+06\n",
      " 4.98665228e+06 5.31264197e+06 5.65493535e+06 6.01406855e+06\n",
      " 6.39058361e+06 6.78502814e+06 7.19795509e+06 7.62992245e+06\n",
      " 8.08149293e+06 8.55323374e+06 9.04571620e+06 9.55951554e+06\n",
      " 1.00952105e+07 1.06533833e+07 1.12346188e+07 1.18395048e+07\n",
      " 1.24686316e+07 1.31225913e+07 1.38019781e+07 1.45073876e+07\n",
      " 1.52394166e+07 1.59986631e+07 1.67857257e+07 1.76012032e+07\n",
      " 1.84456948e+07 1.93197995e+07 2.02241160e+07 2.11592421e+07\n",
      " 2.21257750e+07 2.31243106e+07 2.41554434e+07 2.52197662e+07\n",
      " 2.63178700e+07 2.74503436e+07 2.86177737e+07 2.98207440e+07\n",
      " 3.10598357e+07 3.23356270e+07 3.36486927e+07 3.49996045e+07\n",
      " 3.63889301e+07 3.78172336e+07 3.92850752e+07 4.07930108e+07\n",
      " 4.23415919e+07 4.39313655e+07 4.55628742e+07 4.72366553e+07]\n",
      "[[2.61258557e+04]\n",
      " [3.06025417e+04]\n",
      " [3.57220625e+04]\n",
      " [4.15581997e+04]\n",
      " [4.81909075e+04]\n",
      " [5.57066030e+04]\n",
      " [6.41984516e+04]\n",
      " [7.37666501e+04]\n",
      " [8.45187023e+04]\n",
      " [9.65696891e+04]\n",
      " [1.10042531e+05]\n",
      " [1.25068243e+05]\n",
      " [1.41786177e+05]\n",
      " [1.60344258e+05]\n",
      " [1.80899208e+05]\n",
      " [2.03616757e+05]\n",
      " [2.28671843e+05]\n",
      " [2.56248798e+05]\n",
      " [2.86541520e+05]\n",
      " [3.19753636e+05]\n",
      " [3.56098641e+05]\n",
      " [3.95800033e+05]\n",
      " [4.39091423e+05]\n",
      " [4.86216636e+05]\n",
      " [5.37429798e+05]\n",
      " [5.92995399e+05]\n",
      " [6.53188344e+05]\n",
      " [7.18293998e+05]\n",
      " [7.88608197e+05]\n",
      " [8.64437257e+05]\n",
      " [9.46097964e+05]\n",
      " [1.03391755e+06]\n",
      " [1.12823364e+06]\n",
      " [1.22939421e+06]\n",
      " [1.33775752e+06]\n",
      " [1.45369200e+06]\n",
      " [1.57757619e+06]\n",
      " [1.70979859e+06]\n",
      " [1.85075756e+06]\n",
      " [2.00086118e+06]\n",
      " [2.16052709e+06]\n",
      " [2.33018232e+06]\n",
      " [2.51026312e+06]\n",
      " [2.70121481e+06]\n",
      " [2.90349153e+06]\n",
      " [3.11755606e+06]\n",
      " [3.34387962e+06]\n",
      " [3.58294163e+06]\n",
      " [3.83522946e+06]\n",
      " [4.10123825e+06]\n",
      " [4.38147060e+06]\n",
      " [4.67643634e+06]\n",
      " [4.98665228e+06]\n",
      " [5.31264197e+06]\n",
      " [5.65493535e+06]\n",
      " [6.01406855e+06]\n",
      " [6.39058361e+06]\n",
      " [6.78502814e+06]\n",
      " [7.19795509e+06]\n",
      " [7.62992245e+06]\n",
      " [8.08149293e+06]\n",
      " [8.55323374e+06]\n",
      " [9.04571620e+06]\n",
      " [9.55951554e+06]\n",
      " [1.00952105e+07]\n",
      " [1.06533833e+07]\n",
      " [1.12346188e+07]\n",
      " [1.18395048e+07]\n",
      " [1.24686316e+07]\n",
      " [1.31225913e+07]\n",
      " [1.38019781e+07]\n",
      " [1.45073876e+07]\n",
      " [1.52394166e+07]\n",
      " [1.59986631e+07]\n",
      " [1.67857257e+07]\n",
      " [1.76012032e+07]\n",
      " [1.84456948e+07]\n",
      " [1.93197995e+07]\n",
      " [2.02241160e+07]\n",
      " [2.11592421e+07]\n",
      " [2.21257750e+07]\n",
      " [2.31243106e+07]\n",
      " [2.41554434e+07]\n",
      " [2.52197662e+07]\n",
      " [2.63178700e+07]\n",
      " [2.74503436e+07]\n",
      " [2.86177737e+07]\n",
      " [2.98207440e+07]\n",
      " [3.10598357e+07]\n",
      " [3.23356270e+07]\n",
      " [3.36486927e+07]\n",
      " [3.49996045e+07]\n",
      " [3.63889301e+07]\n",
      " [3.78172336e+07]\n",
      " [3.92850752e+07]\n",
      " [4.07930108e+07]\n",
      " [4.23415919e+07]\n",
      " [4.39313655e+07]\n",
      " [4.55628742e+07]\n",
      " [4.72366553e+07]]\n"
     ]
    }
   ],
   "source": [
    "M0 = 1e8\n",
    "a0 = 1/8\n",
    "ac = 3\n",
    "\n",
    "a = np.linspace(1/19, 1/9, 100)\n",
    "\n",
    "Ma = M0 * np.exp(-2 * ac * (a0/a - 1))\n",
    "\n",
    "print(Ma)\n",
    "print(np.transpose([Ma]))"
   ]
  },
  {
   "cell_type": "code",
   "execution_count": 123,
   "metadata": {},
   "outputs": [],
   "source": [
    "pred = model.predict(np.transpose([Ma]))\n",
    "\n",
    "pred_avg_metallicity = pred[:,0]\n",
    "pred_stellar_mass = pred[:,1]\n",
    "pred_num_pop3 = pred[:,2]\n",
    "pred_gas_fraction = pred[:,3]"
   ]
  },
  {
   "cell_type": "code",
   "execution_count": 124,
   "metadata": {
    "scrolled": true
   },
   "outputs": [
    {
     "data": {
      "image/png": "[encoded data removed]",
      "text/plain": [
       "<Figure size 432x288 with 1 Axes>"
      ]
     },
     "metadata": {
      "needs_background": "light"
     },
     "output_type": "display_data"
    }
   ],
   "source": [
    "plt.plot(Ma, pred_avg_metallicity)\n",
    "plt.xlabel('Total mass')\n",
    "plt.ylabel('Avg metallicity')\n",
    "plt.yscale('log')\n",
    "plt.show()"
   ]
  },
  {
   "cell_type": "code",
   "execution_count": 125,
   "metadata": {},
   "outputs": [
    {
     "data": {
      "image/png": "[encoded data removed]",
      "text/plain": [
       "<Figure size 432x288 with 1 Axes>"
      ]
     },
     "metadata": {
      "needs_background": "light"
     },
     "output_type": "display_data"
    }
   ],
   "source": [
    "plt.plot(Ma, pred_stellar_mass)\n",
    "plt.xlabel('Total mass')\n",
    "plt.ylabel('Stellar mass')\n",
    "plt.yscale('log')\n",
    "plt.show()"
   ]
  },
  {
   "cell_type": "code",
   "execution_count": 126,
   "metadata": {},
   "outputs": [
    {
     "data": {
      "image/png": "[encoded data removed]",
      "text/plain": [
       "<Figure size 432x288 with 1 Axes>"
      ]
     },
     "metadata": {
      "needs_background": "light"
     },
     "output_type": "display_data"
    }
   ],
   "source": [
    "plt.plot(Ma, pred_num_pop3)\n",
    "plt.xlabel('Total mass')\n",
    "plt.ylabel('Num pop3 stars')\n",
    "plt.yscale('log')\n",
    "plt.show()"
   ]
  },
  {
   "cell_type": "code",
   "execution_count": 128,
   "metadata": {},
   "outputs": [
    {
     "data": {
      "image/png": "[encoded data removed]",
      "text/plain": [
       "<Figure size 432x288 with 1 Axes>"
      ]
     },
     "metadata": {
      "needs_background": "light"
     },
     "output_type": "display_data"
    }
   ],
   "source": [
    "plt.plot(Ma, pred_gas_fraction)\n",
    "plt.xlabel('Total mass')\n",
    "plt.ylabel('Gas fraction')\n",
    "# plt.yscale('log')\n",
    "plt.show()"
   ]
  },
  {
   "cell_type": "code",
   "execution_count": null,
   "metadata": {},
   "outputs": [],
   "source": []
  }
 ],
 "metadata": {
  "kernelspec": {
   "display_name": "Python 3",
   "language": "python",
   "name": "python3"
  },
  "language_info": {
   "codemirror_mode": {
    "name": "ipython",
    "version": 3
   },
   "file_extension": ".py",
   "mimetype": "text/x-python",
   "name": "python",
   "nbconvert_exporter": "python",
   "pygments_lexer": "ipython3",
   "version": "3.7.0"
  }
 },
 "nbformat": 4,
 "nbformat_minor": 4
}
